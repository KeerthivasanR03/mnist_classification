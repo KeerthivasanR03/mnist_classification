{
  "nbformat": 4,
  "nbformat_minor": 0,
  "metadata": {
    "colab": {
      "provenance": [],
      "authorship_tag": "ABX9TyMpd6QHRFbr7QjA8I0JNqRB",
      "include_colab_link": true
    },
    "kernelspec": {
      "name": "python3",
      "display_name": "Python 3"
    },
    "language_info": {
      "name": "python"
    }
  },
  "cells": [
    {
      "cell_type": "markdown",
      "metadata": {
        "id": "view-in-github",
        "colab_type": "text"
      },
      "source": [
        "<a href=\"https://colab.research.google.com/github/KeerthivasanR03/mnist_classification/blob/main/mnist.ipynb\" target=\"_parent\"><img src=\"https://colab.research.google.com/assets/colab-badge.svg\" alt=\"Open In Colab\"/></a>"
      ]
    },
    {
      "cell_type": "code",
      "execution_count": 2,
      "metadata": {
        "id": "GCoIfjXEOb_a"
      },
      "outputs": [],
      "source": [
        "from sklearn.datasets import fetch_openml\n",
        "from sklearn.model_selection import StratifiedKFold\n",
        "from sklearn.base import clone, BaseEstimator\n",
        "from sklearn.model_selection import cross_val_score\n",
        "\n",
        "from sklearn.linear_model import SGDClassifier"
      ]
    },
    {
      "cell_type": "code",
      "source": [
        "import numpy as np\n",
        "import pandas as pd"
      ],
      "metadata": {
        "id": "RtZ-tSpURN3o"
      },
      "execution_count": 3,
      "outputs": []
    },
    {
      "cell_type": "code",
      "source": [
        "import matplotlib as mpl\n",
        "import matplotlib.pyplot as plt"
      ],
      "metadata": {
        "id": "9uYM6FUKQc70"
      },
      "execution_count": 4,
      "outputs": []
    },
    {
      "cell_type": "code",
      "source": [
        "mnist = fetch_openml('mnist_784', version=1)"
      ],
      "metadata": {
        "colab": {
          "base_uri": "https://localhost:8080/"
        },
        "id": "iI_96IwuOvli",
        "outputId": "fa5093d0-ecad-459e-cf7a-ba19472b4894"
      },
      "execution_count": 5,
      "outputs": [
        {
          "output_type": "stream",
          "name": "stderr",
          "text": [
            "/usr/local/lib/python3.10/dist-packages/sklearn/datasets/_openml.py:968: FutureWarning: The default value of `parser` will change from `'liac-arff'` to `'auto'` in 1.4. You can set `parser='auto'` to silence this warning. Therefore, an `ImportError` will be raised from 1.4 if the dataset is dense and pandas is not installed. Note that the pandas parser may return different data types. See the Notes Section in fetch_openml's API doc for details.\n",
            "  warn(\n"
          ]
        }
      ]
    },
    {
      "cell_type": "code",
      "source": [
        "mnist.keys()"
      ],
      "metadata": {
        "colab": {
          "base_uri": "https://localhost:8080/"
        },
        "id": "tMRth67qO61g",
        "outputId": "2c81a70e-8e25-4af2-b356-8d578b19ad77"
      },
      "execution_count": 6,
      "outputs": [
        {
          "output_type": "execute_result",
          "data": {
            "text/plain": [
              "dict_keys(['data', 'target', 'frame', 'categories', 'feature_names', 'target_names', 'DESCR', 'details', 'url'])"
            ]
          },
          "metadata": {},
          "execution_count": 6
        }
      ]
    },
    {
      "cell_type": "code",
      "source": [
        "X, y = np.array(mnist['data']), mnist['target']"
      ],
      "metadata": {
        "id": "EZ8bWGipO8VU"
      },
      "execution_count": 7,
      "outputs": []
    },
    {
      "cell_type": "code",
      "source": [
        "some_digit = (X[0].reshape(1, -1))\n",
        "some_digit_image = some_digit.reshape(28,28)"
      ],
      "metadata": {
        "id": "Kdki_iKNPd8_"
      },
      "execution_count": 9,
      "outputs": []
    },
    {
      "cell_type": "code",
      "source": [
        "y = y.astype(np.uint8)"
      ],
      "metadata": {
        "id": "aWajWj4QTyF7"
      },
      "execution_count": 10,
      "outputs": []
    },
    {
      "cell_type": "code",
      "source": [
        "plt.imshow(some_digit_image)"
      ],
      "metadata": {
        "colab": {
          "base_uri": "https://localhost:8080/",
          "height": 447
        },
        "id": "1naZwU8LQEXK",
        "outputId": "df5959fa-e058-41f9-a373-f651ac557f9b"
      },
      "execution_count": 11,
      "outputs": [
        {
          "output_type": "execute_result",
          "data": {
            "text/plain": [
              "<matplotlib.image.AxesImage at 0x79b27ebec460>"
            ]
          },
          "metadata": {},
          "execution_count": 11
        },
        {
          "output_type": "display_data",
          "data": {
            "text/plain": [
              "<Figure size 640x480 with 1 Axes>"
            ],
            "image/png": "[encoded data removed]"
          },
          "metadata": {}
        }
      ]
    },
    {
      "cell_type": "code",
      "source": [
        "help(plt.imshow)"
      ],
      "metadata": {
        "colab": {
          "base_uri": "https://localhost:8080/"
        },
        "id": "bVPSyxshQ1AD",
        "outputId": "ad81545c-a66d-4319-e4fe-806f2ea5e316"
      },
      "execution_count": 12,
      "outputs": [
        {
          "output_type": "stream",
          "name": "stdout",
          "text": [
            "Help on function imshow in module matplotlib.pyplot:\n",
            "\n",
            "imshow(X, cmap=None, norm=None, *, aspect=None, interpolation=None, alpha=None, vmin=None, vmax=None, origin=None, extent=None, interpolation_stage=None, filternorm=True, filterrad=4.0, resample=None, url=None, data=None, **kwargs)\n",
            "    Display data as an image, i.e., on a 2D regular raster.\n",
            "    \n",
            "    The input may either be actual RGB(A) data, or 2D scalar data, which\n",
            "    will be rendered as a pseudocolor image. For displaying a grayscale\n",
            "    image set up the colormapping using the parameters\n",
            "    ``cmap='gray', vmin=0, vmax=255``.\n",
            "    \n",
            "    The number of pixels used to render an image is set by the Axes size\n",
            "    and the *dpi* of the figure. This can lead to aliasing artifacts when\n",
            "    the image is resampled because the displayed image size will usually\n",
            "    not match the size of *X* (see\n",
            "    :doc:`/gallery/images_contours_and_fields/image_antialiasing`).\n",
            "    The resampling can be controlled via the *interpolation* parameter\n",
            "    and/or :rc:`image.interpolation`.\n",
            "    \n",
            "    Parameters\n",
            "    ----------\n",
            "    X : array-like or PIL image\n",
            "        The image data. Supported array shapes are:\n",
            "    \n",
            "        - (M, N): an image with scalar data. The values are mapped to\n",
            "          colors using normalization and a colormap. See parameters *norm*,\n",
            "          *cmap*, *vmin*, *vmax*.\n",
            "        - (M, N, 3): an image with RGB values (0-1 float or 0-255 int).\n",
            "        - (M, N, 4): an image with RGBA values (0-1 float or 0-255 int),\n",
            "          i.e. including transparency.\n",
            "    \n",
            "        The first two dimensions (M, N) define the rows and columns of\n",
            "        the image.\n",
            "    \n",
            "        Out-of-range RGB(A) values are clipped.\n",
            "    \n",
            "    cmap : str or `~matplotlib.colors.Colormap`, default: :rc:`image.cmap`\n",
            "        The Colormap instance or registered colormap name used to map scalar data\n",
            "        to colors.\n",
            "    \n",
            "        This parameter is ignored if *X* is RGB(A).\n",
            "    \n",
            "    norm : str or `~matplotlib.colors.Normalize`, optional\n",
            "        The normalization method used to scale scalar data to the [0, 1] range\n",
            "        before mapping to colors using *cmap*. By default, a linear scaling is\n",
            "        used, mapping the lowest value to 0 and the highest to 1.\n",
            "    \n",
            "        If given, this can be one of the following:\n",
            "    \n",
            "        - An instance of `.Normalize` or one of its subclasses\n",
            "          (see :doc:`/tutorials/colors/colormapnorms`).\n",
            "        - A scale name, i.e. one of \"linear\", \"log\", \"symlog\", \"logit\", etc.  For a\n",
            "          list of available scales, call `matplotlib.scale.get_scale_names()`.\n",
            "          In that case, a suitable `.Normalize` subclass is dynamically generated\n",
            "          and instantiated.\n",
            "    \n",
            "        This parameter is ignored if *X* is RGB(A).\n",
            "    \n",
            "    vmin, vmax : float, optional\n",
            "        When using scalar data and no explicit *norm*, *vmin* and *vmax* define\n",
            "        the data range that the colormap covers. By default, the colormap covers\n",
            "        the complete value range of the supplied data. It is an error to use\n",
            "        *vmin*/*vmax* when a *norm* instance is given (but using a `str` *norm*\n",
            "        name together with *vmin*/*vmax* is acceptable).\n",
            "    \n",
            "        This parameter is ignored if *X* is RGB(A).\n",
            "    \n",
            "    aspect : {'equal', 'auto'} or float, default: :rc:`image.aspect`\n",
            "        The aspect ratio of the Axes.  This parameter is particularly\n",
            "        relevant for images since it determines whether data pixels are\n",
            "        square.\n",
            "    \n",
            "        This parameter is a shortcut for explicitly calling\n",
            "        `.Axes.set_aspect`. See there for further details.\n",
            "    \n",
            "        - 'equal': Ensures an aspect ratio of 1. Pixels will be square\n",
            "          (unless pixel sizes are explicitly made non-square in data\n",
            "          coordinates using *extent*).\n",
            "        - 'auto': The Axes is kept fixed and the aspect is adjusted so\n",
            "          that the data fit in the Axes. In general, this will result in\n",
            "          non-square pixels.\n",
            "    \n",
            "    interpolation : str, default: :rc:`image.interpolation`\n",
            "        The interpolation method used.\n",
            "    \n",
            "        Supported values are 'none', 'antialiased', 'nearest', 'bilinear',\n",
            "        'bicubic', 'spline16', 'spline36', 'hanning', 'hamming', 'hermite',\n",
            "        'kaiser', 'quadric', 'catrom', 'gaussian', 'bessel', 'mitchell',\n",
            "        'sinc', 'lanczos', 'blackman'.\n",
            "    \n",
            "        If *interpolation* is 'none', then no interpolation is performed\n",
            "        on the Agg, ps, pdf and svg backends. Other backends will fall back\n",
            "        to 'nearest'. Note that most SVG renderers perform interpolation at\n",
            "        rendering and that the default interpolation method they implement\n",
            "        may differ.\n",
            "    \n",
            "        If *interpolation* is the default 'antialiased', then 'nearest'\n",
            "        interpolation is used if the image is upsampled by more than a\n",
            "        factor of three (i.e. the number of display pixels is at least\n",
            "        three times the size of the data array).  If the upsampling rate is\n",
            "        smaller than 3, or the image is downsampled, then 'hanning'\n",
            "        interpolation is used to act as an anti-aliasing filter, unless the\n",
            "        image happens to be upsampled by exactly a factor of two or one.\n",
            "    \n",
            "        See\n",
            "        :doc:`/gallery/images_contours_and_fields/interpolation_methods`\n",
            "        for an overview of the supported interpolation methods, and\n",
            "        :doc:`/gallery/images_contours_and_fields/image_antialiasing` for\n",
            "        a discussion of image antialiasing.\n",
            "    \n",
            "        Some interpolation methods require an additional radius parameter,\n",
            "        which can be set by *filterrad*. Additionally, the antigrain image\n",
            "        resize filter is controlled by the parameter *filternorm*.\n",
            "    \n",
            "    interpolation_stage : {'data', 'rgba'}, default: 'data'\n",
            "        If 'data', interpolation\n",
            "        is carried out on the data provided by the user.  If 'rgba', the\n",
            "        interpolation is carried out after the colormapping has been\n",
            "        applied (visual interpolation).\n",
            "    \n",
            "    alpha : float or array-like, optional\n",
            "        The alpha blending value, between 0 (transparent) and 1 (opaque).\n",
            "        If *alpha* is an array, the alpha blending values are applied pixel\n",
            "        by pixel, and *alpha* must have the same shape as *X*.\n",
            "    \n",
            "    origin : {'upper', 'lower'}, default: :rc:`image.origin`\n",
            "        Place the [0, 0] index of the array in the upper left or lower\n",
            "        left corner of the Axes. The convention (the default) 'upper' is\n",
            "        typically used for matrices and images.\n",
            "    \n",
            "        Note that the vertical axis points upward for 'lower'\n",
            "        but downward for 'upper'.\n",
            "    \n",
            "        See the :doc:`/tutorials/intermediate/imshow_extent` tutorial for\n",
            "        examples and a more detailed description.\n",
            "    \n",
            "    extent : floats (left, right, bottom, top), optional\n",
            "        The bounding box in data coordinates that the image will fill.\n",
            "        These values may be unitful and match the units of the Axes.\n",
            "        The image is stretched individually along x and y to fill the box.\n",
            "    \n",
            "        The default extent is determined by the following conditions.\n",
            "        Pixels have unit size in data coordinates. Their centers are on\n",
            "        integer coordinates, and their center coordinates range from 0 to\n",
            "        columns-1 horizontally and from 0 to rows-1 vertically.\n",
            "    \n",
            "        Note that the direction of the vertical axis and thus the default\n",
            "        values for top and bottom depend on *origin*:\n",
            "    \n",
            "        - For ``origin == 'upper'`` the default is\n",
            "          ``(-0.5, numcols-0.5, numrows-0.5, -0.5)``.\n",
            "        - For ``origin == 'lower'`` the default is\n",
            "          ``(-0.5, numcols-0.5, -0.5, numrows-0.5)``.\n",
            "    \n",
            "        See the :doc:`/tutorials/intermediate/imshow_extent` tutorial for\n",
            "        examples and a more detailed description.\n",
            "    \n",
            "    filternorm : bool, default: True\n",
            "        A parameter for the antigrain image resize filter (see the\n",
            "        antigrain documentation).  If *filternorm* is set, the filter\n",
            "        normalizes integer values and corrects the rounding errors. It\n",
            "        doesn't do anything with the source floating point values, it\n",
            "        corrects only integers according to the rule of 1.0 which means\n",
            "        that any sum of pixel weights must be equal to 1.0.  So, the\n",
            "        filter function must produce a graph of the proper shape.\n",
            "    \n",
            "    filterrad : float > 0, default: 4.0\n",
            "        The filter radius for filters that have a radius parameter, i.e.\n",
            "        when interpolation is one of: 'sinc', 'lanczos' or 'blackman'.\n",
            "    \n",
            "    resample : bool, default: :rc:`image.resample`\n",
            "        When *True*, use a full resampling method.  When *False*, only\n",
            "        resample when the output image is larger than the input image.\n",
            "    \n",
            "    url : str, optional\n",
            "        Set the url of the created `.AxesImage`. See `.Artist.set_url`.\n",
            "    \n",
            "    Returns\n",
            "    -------\n",
            "    `~matplotlib.image.AxesImage`\n",
            "    \n",
            "    Other Parameters\n",
            "    ----------------\n",
            "    data : indexable object, optional\n",
            "        If given, all parameters also accept a string ``s``, which is\n",
            "        interpreted as ``data[s]`` (unless this raises an exception).\n",
            "    \n",
            "    **kwargs : `~matplotlib.artist.Artist` properties\n",
            "        These parameters are passed on to the constructor of the\n",
            "        `.AxesImage` artist.\n",
            "    \n",
            "    See Also\n",
            "    --------\n",
            "    matshow : Plot a matrix or an array as an image.\n",
            "    \n",
            "    Notes\n",
            "    -----\n",
            "    Unless *extent* is used, pixel centers will be located at integer\n",
            "    coordinates. In other words: the origin will coincide with the center\n",
            "    of pixel (0, 0).\n",
            "    \n",
            "    There are two common representations for RGB images with an alpha\n",
            "    channel:\n",
            "    \n",
            "    -   Straight (unassociated) alpha: R, G, and B channels represent the\n",
            "        color of the pixel, disregarding its opacity.\n",
            "    -   Premultiplied (associated) alpha: R, G, and B channels represent\n",
            "        the color of the pixel, adjusted for its opacity by multiplication.\n",
            "    \n",
            "    `~matplotlib.pyplot.imshow` expects RGB images adopting the straight\n",
            "    (unassociated) alpha representation.\n",
            "\n"
          ]
        }
      ]
    },
    {
      "cell_type": "code",
      "source": [
        "X_train, X_test, y_train, y_test = X[:60000, ], X[60000:], y[:60000], y[60000:]"
      ],
      "metadata": {
        "id": "H9xWWZs4SmKw"
      },
      "execution_count": 13,
      "outputs": []
    },
    {
      "cell_type": "markdown",
      "source": [
        "## **BinaryClassifier**"
      ],
      "metadata": {
        "id": "liMu0WtxTmgb"
      }
    },
    {
      "cell_type": "code",
      "source": [
        "y_train_5 = (y_train==5)\n",
        "y_test_5 = (y_test==5)"
      ],
      "metadata": {
        "id": "7d8-rgVjTcll"
      },
      "execution_count": 14,
      "outputs": []
    },
    {
      "cell_type": "code",
      "source": [
        "sgd_clf = SGDClassifier(random_state=42)\n",
        "sgd_clf.fit(X_train, y_train_5)"
      ],
      "metadata": {
        "colab": {
          "base_uri": "https://localhost:8080/",
          "height": 74
        },
        "id": "20a9WkwjT4i1",
        "outputId": "d4cdb755-41cc-4537-81b5-8d30dbaab42a"
      },
      "execution_count": 15,
      "outputs": [
        {
          "output_type": "execute_result",
          "data": {
            "text/plain": [
              "SGDClassifier(random_state=42)"
            ],
            "text/html": [
              "<style>#sk-container-id-1 {color: black;background-color: white;}#sk-container-id-1 pre{padding: 0;}#sk-container-id-1 div.sk-toggleable {background-color: white;}#sk-container-id-1 label.sk-toggleable__label {cursor: pointer;display: block;width: 100%;margin-bottom: 0;padding: 0.3em;box-sizing: border-box;text-align: center;}#sk-container-id-1 label.sk-toggleable__label-arrow:before {content: \"▸\";float: left;margin-right: 0.25em;color: #696969;}#sk-container-id-1 label.sk-toggleable__label-arrow:hover:before {color: black;}#sk-container-id-1 div.sk-estimator:hover label.sk-toggleable__label-arrow:before {color: black;}#sk-container-id-1 div.sk-toggleable__content {max-height: 0;max-width: 0;overflow: hidden;text-align: left;background-color: #f0f8ff;}#sk-container-id-1 div.sk-toggleable__content pre {margin: 0.2em;color: black;border-radius: 0.25em;background-color: #f0f8ff;}#sk-container-id-1 input.sk-toggleable__control:checked~div.sk-toggleable__content {max-height: 200px;max-width: 100%;overflow: auto;}#sk-container-id-1 input.sk-toggleable__control:checked~label.sk-toggleable__label-arrow:before {content: \"▾\";}#sk-container-id-1 div.sk-estimator input.sk-toggleable__control:checked~label.sk-toggleable__label {background-color: #d4ebff;}#sk-container-id-1 div.sk-label input.sk-toggleable__control:checked~label.sk-toggleable__label {background-color: #d4ebff;}#sk-container-id-1 input.sk-hidden--visually {border: 0;clip: rect(1px 1px 1px 1px);clip: rect(1px, 1px, 1px, 1px);height: 1px;margin: -1px;overflow: hidden;padding: 0;position: absolute;width: 1px;}#sk-container-id-1 div.sk-estimator {font-family: monospace;background-color: #f0f8ff;border: 1px dotted black;border-radius: 0.25em;box-sizing: border-box;margin-bottom: 0.5em;}#sk-container-id-1 div.sk-estimator:hover {background-color: #d4ebff;}#sk-container-id-1 div.sk-parallel-item::after {content: \"\";width: 100%;border-bottom: 1px solid gray;flex-grow: 1;}#sk-container-id-1 div.sk-label:hover label.sk-toggleable__label {background-color: #d4ebff;}#sk-container-id-1 div.sk-serial::before {content: \"\";position: absolute;border-left: 1px solid gray;box-sizing: border-box;top: 0;bottom: 0;left: 50%;z-index: 0;}#sk-container-id-1 div.sk-serial {display: flex;flex-direction: column;align-items: center;background-color: white;padding-right: 0.2em;padding-left: 0.2em;position: relative;}#sk-container-id-1 div.sk-item {position: relative;z-index: 1;}#sk-container-id-1 div.sk-parallel {display: flex;align-items: stretch;justify-content: center;background-color: white;position: relative;}#sk-container-id-1 div.sk-item::before, #sk-container-id-1 div.sk-parallel-item::before {content: \"\";position: absolute;border-left: 1px solid gray;box-sizing: border-box;top: 0;bottom: 0;left: 50%;z-index: -1;}#sk-container-id-1 div.sk-parallel-item {display: flex;flex-direction: column;z-index: 1;position: relative;background-color: white;}#sk-container-id-1 div.sk-parallel-item:first-child::after {align-self: flex-end;width: 50%;}#sk-container-id-1 div.sk-parallel-item:last-child::after {align-self: flex-start;width: 50%;}#sk-container-id-1 div.sk-parallel-item:only-child::after {width: 0;}#sk-container-id-1 div.sk-dashed-wrapped {border: 1px dashed gray;margin: 0 0.4em 0.5em 0.4em;box-sizing: border-box;padding-bottom: 0.4em;background-color: white;}#sk-container-id-1 div.sk-label label {font-family: monospace;font-weight: bold;display: inline-block;line-height: 1.2em;}#sk-container-id-1 div.sk-label-container {text-align: center;}#sk-container-id-1 div.sk-container {/* jupyter's `normalize.less` sets `[hidden] { display: none; }` but bootstrap.min.css set `[hidden] { display: none !important; }` so we also need the `!important` here to be able to override the default hidden behavior on the sphinx rendered scikit-learn.org. See: https://github.com/scikit-learn/scikit-learn/issues/21755 */display: inline-block !important;position: relative;}#sk-container-id-1 div.sk-text-repr-fallback {display: none;}</style><div id=\"sk-container-id-1\" class=\"sk-top-container\"><div class=\"sk-text-repr-fallback\"><pre>SGDClassifier(random_state=42)</pre><b>In a Jupyter environment, please rerun this cell to show the HTML representation or trust the notebook. <br />On GitHub, the HTML representation is unable to render, please try loading this page with nbviewer.org.</b></div><div class=\"sk-container\" hidden><div class=\"sk-item\"><div class=\"sk-estimator sk-toggleable\"><input class=\"sk-toggleable__control sk-hidden--visually\" id=\"sk-estimator-id-1\" type=\"checkbox\" checked><label for=\"sk-estimator-id-1\" class=\"sk-toggleable__label sk-toggleable__label-arrow\">SGDClassifier</label><div class=\"sk-toggleable__content\"><pre>SGDClassifier(random_state=42)</pre></div></div></div></div></div>"
            ]
          },
          "metadata": {},
          "execution_count": 15
        }
      ]
    },
    {
      "cell_type": "code",
      "source": [
        "sgd_clf.predict(some_digit)"
      ],
      "metadata": {
        "colab": {
          "base_uri": "https://localhost:8080/"
        },
        "id": "jAIGxDiOUfh0",
        "outputId": "c55552e6-bbae-4b2a-9e81-cb8f4341b1db"
      },
      "execution_count": 16,
      "outputs": [
        {
          "output_type": "execute_result",
          "data": {
            "text/plain": [
              "array([ True])"
            ]
          },
          "metadata": {},
          "execution_count": 16
        }
      ]
    },
    {
      "cell_type": "code",
      "source": [
        "skfolds = StratifiedKFold(n_splits=3, random_state=42, shuffle=True)\n",
        "for train_index, test_index in skfolds.split(X_train, y_train_5):\n",
        "  clone_clf = clone(sgd_clf)\n",
        "  X_train_folds = X_train[train_index]\n",
        "  y_train_folds = y_train_5[train_index]\n",
        "  X_test_fold = X_train[test_index]\n",
        "  y_test_fold = y_train_5[test_index]\n",
        "  clone_clf.fit(X_train_folds, y_train_folds)\n",
        "  y_pred = clone_clf.predict(X_test_fold)\n",
        "  n_correct = sum(y_pred == y_test_fold)\n",
        "  print(n_correct / len(y_pred)) # prints 0.9502, 0.96565 and 0.96495"
      ],
      "metadata": {
        "colab": {
          "base_uri": "https://localhost:8080/"
        },
        "id": "azkBdLCuYywa",
        "outputId": "6171eb70-6bd6-41da-bd29-6f13a6c1daa9"
      },
      "execution_count": 17,
      "outputs": [
        {
          "output_type": "stream",
          "name": "stdout",
          "text": [
            "0.9669\n",
            "0.91625\n",
            "0.96785\n"
          ]
        }
      ]
    },
    {
      "cell_type": "code",
      "source": [
        "cross_val_score(sgd_clf, X_train, y_train, cv=3, scoring='accuracy')"
      ],
      "metadata": {
        "id": "E_GquC_WZe8c"
      },
      "execution_count": null,
      "outputs": []
    },
    {
      "cell_type": "code",
      "source": [
        "class Never5Classifier(BaseEstimator):\n",
        "  def fit(self, X, y=None):\n",
        "    pass\n",
        "  def predict(self, X):\n",
        "    return np.zeros((len(X), 1), dtype=bool)"
      ],
      "metadata": {
        "id": "mxyLQeCTZ2Yr"
      },
      "execution_count": null,
      "outputs": []
    },
    {
      "cell_type": "code",
      "source": [],
      "metadata": {
        "id": "rJfqIZzwbGae"
      },
      "execution_count": null,
      "outputs": []
    }
  ]
}